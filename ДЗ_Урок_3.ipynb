{
 "cells": [
  {
   "cell_type": "markdown",
   "id": "4051c267",
   "metadata": {},
   "source": [
    "## Задание 1\n"
   ]
  },
  {
   "cell_type": "code",
   "execution_count": 3,
   "id": "969cd5fd",
   "metadata": {},
   "outputs": [],
   "source": [
    "zarplata = [100, 80, 75, 77, 89, 33, 45, 25, 65, 17, 30, 24, 57, 55, 70, 75, 65, 84, 90, 150]\n"
   ]
  },
  {
   "cell_type": "code",
   "execution_count": 16,
   "id": "c619c3ff",
   "metadata": {},
   "outputs": [
    {
     "data": {
      "text/plain": [
       "65.3"
      ]
     },
     "execution_count": 16,
     "metadata": {},
     "output_type": "execute_result"
    }
   ],
   "source": [
    "#Среднее арифметическое\n",
    "n = len(zarplata)\n",
    "sr_arif = sum(zarplata)/n\n",
    "sr_arif"
   ]
  },
  {
   "cell_type": "code",
   "execution_count": 25,
   "id": "699eb98b",
   "metadata": {},
   "outputs": [
    {
     "data": {
      "text/plain": [
       "30.823854398825596"
      ]
     },
     "execution_count": 25,
     "metadata": {},
     "output_type": "execute_result"
    }
   ],
   "source": [
    "#Среднее квадратичное отклонение\n",
    "sum_sr_kv = 0\n",
    "for i in zarplata:\n",
    "    sum_sr_kv = sum_sr_kv + pow(i-sr_arif, 2)\n",
    "sr_kv = pow(sum_sr_kv/n, 0.5)\n",
    "sr_kv\n",
    "    "
   ]
  },
  {
   "cell_type": "code",
   "execution_count": 26,
   "id": "c0d87ae2",
   "metadata": {},
   "outputs": [
    {
     "data": {
      "text/plain": [
       "950.11"
      ]
     },
     "execution_count": 26,
     "metadata": {},
     "output_type": "execute_result"
    }
   ],
   "source": [
    "#смещенная оценка дисперсии\n",
    "disp_sm = pow(sr_kv, 2)\n",
    "disp_sm"
   ]
  },
  {
   "cell_type": "code",
   "execution_count": 27,
   "id": "aec84f89",
   "metadata": {},
   "outputs": [
    {
     "data": {
      "text/plain": [
       "1000.1157894736842"
      ]
     },
     "execution_count": 27,
     "metadata": {},
     "output_type": "execute_result"
    }
   ],
   "source": [
    "#несмещенная оценка дисперсии\n",
    "disp_nsm = sum_sr_kv/(n-1)\n",
    "disp_nsm"
   ]
  },
  {
   "cell_type": "markdown",
   "id": "76effc07",
   "metadata": {},
   "source": [
    "## Задание 2\n"
   ]
  },
  {
   "cell_type": "code",
   "execution_count": 33,
   "id": "71602445",
   "metadata": {},
   "outputs": [],
   "source": [
    "# Вероятность вытащить 3 белых мяча\n",
    "from math import factorial as fac\n",
    "def combination (n, k):\n",
    "    return fac(n)/(fac(k)*fac(n-k))\n",
    "kor_1 = 8\n",
    "bel_1 = 5\n",
    "kor_2 = 12\n",
    "bel_2 = 5\n"
   ]
  },
  {
   "cell_type": "code",
   "execution_count": 37,
   "id": "6849ca5e",
   "metadata": {},
   "outputs": [
    {
     "data": {
      "text/plain": [
       "0.12626262626262627"
      ]
     },
     "execution_count": 37,
     "metadata": {},
     "output_type": "execute_result"
    }
   ],
   "source": [
    "#случай,  когда из первого достают 2 белых, а из второго 1\n",
    "p_1 = (combination(5, 2)/combination(8,2)) * ((combination(5,1)*combination(7, 3))/combination(12,4))\n",
    "p_1"
   ]
  },
  {
   "cell_type": "code",
   "execution_count": 39,
   "id": "a351669d",
   "metadata": {},
   "outputs": [
    {
     "data": {
      "text/plain": [
       "0.22727272727272727"
      ]
     },
     "execution_count": 39,
     "metadata": {},
     "output_type": "execute_result"
    }
   ],
   "source": [
    "#случай,  когда из первого достают 1 белых, а из второго 2\n",
    "p_2 = ((combination(5, 1) *combination(3, 1) )/combination(8,2)) * ((combination(5,2)*combination(7, 2))/combination(12,4))\n",
    "p_2"
   ]
  },
  {
   "cell_type": "code",
   "execution_count": 40,
   "id": "f6d6cb67",
   "metadata": {},
   "outputs": [
    {
     "data": {
      "text/plain": [
       "0.01515151515151515"
      ]
     },
     "execution_count": 40,
     "metadata": {},
     "output_type": "execute_result"
    }
   ],
   "source": [
    "#случай,  когда из первого достают 0 белых, а из второго 3\n",
    "p_3 = (combination(3, 2) /combination(8,2)) * ((combination(5,3)*combination(7, 1))/combination(12,4))\n",
    "p_3"
   ]
  },
  {
   "cell_type": "code",
   "execution_count": 41,
   "id": "8c72a5de",
   "metadata": {},
   "outputs": [
    {
     "data": {
      "text/plain": [
       "0.3686868686868687"
      ]
     },
     "execution_count": 41,
     "metadata": {},
     "output_type": "execute_result"
    }
   ],
   "source": [
    "#сумма всех частных вероятностей\n",
    "p_sum = p_1 + p_2 + p_3\n",
    "p_sum"
   ]
  },
  {
   "cell_type": "markdown",
   "id": "d5366ebe",
   "metadata": {},
   "source": [
    "## Задание 3\n",
    "\n"
   ]
  },
  {
   "cell_type": "code",
   "execution_count": 42,
   "id": "10581a7a",
   "metadata": {},
   "outputs": [],
   "source": [
    "sport_1 = 0.9\n",
    "sport_2 = 0.8\n",
    "sport_3 = 0.6\n"
   ]
  },
  {
   "cell_type": "code",
   "execution_count": 44,
   "id": "2db2bfc6",
   "metadata": {},
   "outputs": [
    {
     "data": {
      "text/plain": [
       "0.3913043478260869"
      ]
     },
     "execution_count": 44,
     "metadata": {},
     "output_type": "execute_result"
    }
   ],
   "source": [
    "#выстрелил первый\n",
    "p_A = 1/3 * (sport_1 + sport_2 + sport_3)  #полная вероятность\n",
    "p_s1 = (1/3 * sport_1)/p_A\n",
    "p_s1"
   ]
  },
  {
   "cell_type": "code",
   "execution_count": 45,
   "id": "484435aa",
   "metadata": {},
   "outputs": [
    {
     "data": {
      "text/plain": [
       "0.34782608695652173"
      ]
     },
     "execution_count": 45,
     "metadata": {},
     "output_type": "execute_result"
    }
   ],
   "source": [
    "#выстрелил второй\n",
    "p_s2 = (1/3 * sport_2)/p_A\n",
    "p_s2"
   ]
  },
  {
   "cell_type": "code",
   "execution_count": 46,
   "id": "8f400782",
   "metadata": {},
   "outputs": [
    {
     "data": {
      "text/plain": [
       "0.26086956521739124"
      ]
     },
     "execution_count": 46,
     "metadata": {},
     "output_type": "execute_result"
    }
   ],
   "source": [
    "#выстрелил третий\n",
    "p_s3 = (1/3 * sport_3)/p_A\n",
    "p_s3"
   ]
  },
  {
   "cell_type": "markdown",
   "id": "5992e8bd",
   "metadata": {},
   "source": [
    "## Задание 4\n"
   ]
  },
  {
   "cell_type": "code",
   "execution_count": 47,
   "id": "4cb657c7",
   "metadata": {},
   "outputs": [],
   "source": [
    "fac_a = 0.8\n",
    "fac_b = 0.7\n",
    "fac_c = 0.9\n"
   ]
  },
  {
   "cell_type": "code",
   "execution_count": 49,
   "id": "0e21d530",
   "metadata": {},
   "outputs": [
    {
     "data": {
      "text/plain": [
       "0.24242424242424246"
      ]
     },
     "execution_count": 49,
     "metadata": {},
     "output_type": "execute_result"
    }
   ],
   "source": [
    "#сдавший с факультета А\n",
    "p_fac = 1/4 *fac_a + 1/4 *fac_b + 1/2 *fac_c\n",
    "p_fac_a = (1/4 * fac_a)/p_fac\n",
    "p_fac_a"
   ]
  },
  {
   "cell_type": "code",
   "execution_count": 51,
   "id": "fd20e2ca",
   "metadata": {},
   "outputs": [
    {
     "data": {
      "text/plain": [
       "0.21212121212121213"
      ]
     },
     "execution_count": 51,
     "metadata": {},
     "output_type": "execute_result"
    }
   ],
   "source": [
    "#сдавший с факультета B\n",
    "p_fac_b = (1/4 * fac_b)/p_fac\n",
    "p_fac_b"
   ]
  },
  {
   "cell_type": "code",
   "execution_count": 52,
   "id": "1465b074",
   "metadata": {},
   "outputs": [
    {
     "data": {
      "text/plain": [
       "0.5454545454545455"
      ]
     },
     "execution_count": 52,
     "metadata": {},
     "output_type": "execute_result"
    }
   ],
   "source": [
    "#сдавший с факультета C\n",
    "p_fac_c = (1/2 * fac_c)/p_fac\n",
    "p_fac_c"
   ]
  },
  {
   "cell_type": "markdown",
   "id": "ae4eda37",
   "metadata": {},
   "source": [
    "## Задание 5\n"
   ]
  },
  {
   "cell_type": "code",
   "execution_count": 53,
   "id": "44135d34",
   "metadata": {},
   "outputs": [],
   "source": [
    "det_1 = 0.1\n",
    "det_2 = 0.2\n",
    "det_3 = 0.25"
   ]
  },
  {
   "cell_type": "code",
   "execution_count": 60,
   "id": "9cf9ab8e",
   "metadata": {},
   "outputs": [
    {
     "name": "stdout",
     "output_type": "stream",
     "text": [
      "0.5 %\n"
     ]
    }
   ],
   "source": [
    "#все детали выйдут из строя\n",
    "vse_det = det_1 * det_2 * det_3 *100\n",
    "print(round(vse_det,2), '%')\n"
   ]
  },
  {
   "cell_type": "code",
   "execution_count": 63,
   "id": "03bd0382",
   "metadata": {},
   "outputs": [
    {
     "name": "stdout",
     "output_type": "stream",
     "text": [
      "9.5 %\n"
     ]
    }
   ],
   "source": [
    "#только две\n",
    "dve_det = (det_1 * det_2 + det_2 * det_3 + det_1 * det_3)*100\n",
    "print(round(dve_det,2), '%')"
   ]
  },
  {
   "cell_type": "code",
   "execution_count": 65,
   "id": "23c0c056",
   "metadata": {},
   "outputs": [
    {
     "name": "stdout",
     "output_type": "stream",
     "text": [
      "65.0 %\n"
     ]
    }
   ],
   "source": [
    "#хотя бы одна\n",
    "odna_det = (det_1 + det_2 + det_3) *100 + dve_det + vse_det\n",
    "print(round(odna_det, 2), '%')"
   ]
  },
  {
   "cell_type": "code",
   "execution_count": 64,
   "id": "b6ddc297",
   "metadata": {},
   "outputs": [
    {
     "name": "stdout",
     "output_type": "stream",
     "text": [
      "64.5 %\n"
     ]
    }
   ],
   "source": [
    "#от одной до двух\n",
    "det_1_2 = (det_1 + det_2 + det_3) *100 + dve_det\n",
    "print(round(det_1_2, 2), '%')"
   ]
  }
 ],
 "metadata": {
  "kernelspec": {
   "display_name": "Python 3 (ipykernel)",
   "language": "python",
   "name": "python3"
  },
  "language_info": {
   "codemirror_mode": {
    "name": "ipython",
    "version": 3
   },
   "file_extension": ".py",
   "mimetype": "text/x-python",
   "name": "python",
   "nbconvert_exporter": "python",
   "pygments_lexer": "ipython3",
   "version": "3.9.6"
  },
  "nbTranslate": {
   "displayLangs": [
    "*"
   ],
   "hotkey": "alt-t",
   "langInMainMenu": true,
   "sourceLang": "en",
   "targetLang": "fr",
   "useGoogleTranslate": true
  }
 },
 "nbformat": 4,
 "nbformat_minor": 5
}

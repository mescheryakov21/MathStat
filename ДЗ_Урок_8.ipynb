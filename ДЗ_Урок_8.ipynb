{
 "cells": [
  {
   "cell_type": "markdown",
   "id": "63f4972d",
   "metadata": {},
   "source": [
    "# Задание\n"
   ]
  },
  {
   "cell_type": "code",
   "execution_count": 10,
   "id": "94cac71c",
   "metadata": {},
   "outputs": [
    {
     "data": {
      "text/plain": [
       "F_onewayResult(statistic=5.500053450812596, pvalue=0.010482206918698694)"
      ]
     },
     "execution_count": 10,
     "metadata": {},
     "output_type": "execute_result"
    }
   ],
   "source": [
    "from scipy import stats\n",
    "football = [173, 175, 180, 178, 177, 185, 183, 182]\n",
    "hokey = [177, 179, 180, 188, 177, 172, 171, 184, 180]\n",
    "stanga = [172, 173, 169, 177, 166, 180, 178, 177, 172, 166, 170]\n",
    "\n",
    "stats.f_oneway(football,hokey,stanga)\n"
   ]
  },
  {
   "cell_type": "markdown",
   "id": "4208cd50",
   "metadata": {},
   "source": [
    "# Выводы\n",
    "Рост спортсмена не зависит от вида спорта при значимой погрешности в 1%\n",
    "Но зависит при погрешности в 5%\n"
   ]
  }
 ],
 "metadata": {
  "kernelspec": {
   "display_name": "Python 3 (ipykernel)",
   "language": "python",
   "name": "python3"
  },
  "language_info": {
   "codemirror_mode": {
    "name": "ipython",
    "version": 3
   },
   "file_extension": ".py",
   "mimetype": "text/x-python",
   "name": "python",
   "nbconvert_exporter": "python",
   "pygments_lexer": "ipython3",
   "version": "3.9.6"
  },
  "nbTranslate": {
   "displayLangs": [
    "*"
   ],
   "hotkey": "alt-t",
   "langInMainMenu": true,
   "sourceLang": "en",
   "targetLang": "fr",
   "useGoogleTranslate": true
  }
 },
 "nbformat": 4,
 "nbformat_minor": 5
}

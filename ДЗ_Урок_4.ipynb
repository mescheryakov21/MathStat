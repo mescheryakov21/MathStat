{
 "cells": [
  {
   "cell_type": "markdown",
   "id": "5648a54a",
   "metadata": {},
   "source": [
    "## Задание 1\n"
   ]
  },
  {
   "cell_type": "code",
   "execution_count": 50,
   "id": "240f10de",
   "metadata": {},
   "outputs": [
    {
     "data": {
      "text/plain": [
       "(500.0, 30000.0)"
      ]
     },
     "execution_count": 50,
     "metadata": {},
     "output_type": "execute_result"
    }
   ],
   "source": [
    "\n",
    "a = 200\n",
    "b = 800\n",
    "mx = (a+b)/2\n",
    "dx = pow(b-a, 2)/12\n",
    "\n",
    "mx, dx\n"
   ]
  },
  {
   "cell_type": "markdown",
   "id": "0d28a7cf",
   "metadata": {},
   "source": [
    "## Задание 2\n",
    "   \n",
    "   Согласно формуле дисперсии для непрерывной равномерно распределенной величины:\n",
    "\n",
    "$$D(X) = \\frac{(b - a)^2}{12}$$\n",
    "\n",
    "Выразим b(правая граница):\n",
    "\n",
    "$$(b - a)^2 = 12 * D(X)$$\n",
    "\n",
    "$$b - a = \\sqrt{12 * D(X)}$$\n",
    "\n",
    "$$b = \\sqrt{12 * D(X)} + a$$\n",
    "\n",
    "\n",
    "среднее значение найдем по формуле:\n",
    "\n",
    "$$M(X) = \\frac{a + b}{2}$$"
   ]
  },
  {
   "cell_type": "code",
   "execution_count": 48,
   "id": "e19724a1",
   "metadata": {},
   "outputs": [
    {
     "data": {
      "text/plain": [
       "(2.0, 1.25)"
      ]
     },
     "execution_count": 48,
     "metadata": {},
     "output_type": "execute_result"
    }
   ],
   "source": [
    "from math import sqrt\n",
    "b = round(sqrt(12*0.2) + 0.5, 1)\n",
    "mx = (0.5 + b)/2\n",
    "b, mx\n"
   ]
  },
  {
   "cell_type": "markdown",
   "id": "2c9141de",
   "metadata": {},
   "source": [
    "## Задание 3\n",
    "\n",
    "Дано:\n",
    "\n",
    "$$f(x) = \\frac{1}{4 \\sqrt{2 \\pi}} e ^ {- \\frac{(x - 2)^2}{32}},$$\n",
    "\n",
    "\n",
    "Исходя из формулы:\n",
    "\n",
    "$$f(x) = \\frac{1}{\\sigma \\sqrt{2 \\pi}} e ^ {- \\frac{(x - a)^2}{2 \\sigma^2}},$$\n",
    "\n",
    "а). M(X) - математическое ожидание = a\n",
    "\n",
    "$ a = 2$\n",
    "\n",
    "б). D(X) - дисперсия = :\n",
    "\n",
    "$\\sigma^2 = 16$\n",
    "\n",
    "в). std(X) (среднее квадратичное отклонение):\n",
    "\n",
    "$\\sigma = 4$\n",
    "\n",
    "\n"
   ]
  },
  {
   "cell_type": "markdown",
   "id": "b333be8b",
   "metadata": {},
   "source": [
    "## Задание 4\n",
    "\n",
    "Пользуемся таблицей\n",
    "\n",
    "$М(Х) = 174$ см\n",
    "\n",
    "$\\sigma = 8$ см"
   ]
  },
  {
   "cell_type": "code",
   "execution_count": 22,
   "id": "8a5e4e5d",
   "metadata": {},
   "outputs": [
    {
     "name": "stdout",
     "output_type": "stream",
     "text": [
      "15.87 %\n"
     ]
    },
    {
     "data": {
      "text/plain": [
       "1.0"
      ]
     },
     "execution_count": 22,
     "metadata": {},
     "output_type": "execute_result"
    }
   ],
   "source": [
    "#а) больше 182 см\n",
    "a = (182 - 174)/8\n",
    "b = 1-0.8413                    #ТАБЛИЧНОЕ ЗНАЧЕНИЕ\n",
    "print(round(b*100, 2), \"%\")\n",
    "a\n"
   ]
  },
  {
   "cell_type": "code",
   "execution_count": 21,
   "id": "d43ed460",
   "metadata": {},
   "outputs": [
    {
     "name": "stdout",
     "output_type": "stream",
     "text": [
      "2.28 %\n"
     ]
    },
    {
     "data": {
      "text/plain": [
       "2.0"
      ]
     },
     "execution_count": 21,
     "metadata": {},
     "output_type": "execute_result"
    }
   ],
   "source": [
    "#б) больше 190 см\n",
    "a = (190 - 174)/8\n",
    "b = 1-0.9772                    #ТАБЛИЧНОЕ ЗНАЧЕНИЕ\n",
    "print(round(b*100, 2), \"%\")\n",
    "a\n"
   ]
  },
  {
   "cell_type": "code",
   "execution_count": 45,
   "id": "d8aed1ed",
   "metadata": {},
   "outputs": [
    {
     "name": "stdout",
     "output_type": "stream",
     "text": [
      "81.85 %\n"
     ]
    },
    {
     "data": {
      "text/plain": [
       "(-1.0, 2.0)"
      ]
     },
     "execution_count": 45,
     "metadata": {},
     "output_type": "execute_result"
    }
   ],
   "source": [
    "#в) от 166 см до 190 см\n",
    "a1 = (166 - 174)/8\n",
    "a2 = (190 - 174)/8\n",
    "b = 1 - ((1 - 0.8413)  + (1 - 0.9772))                 #ТАБЛИЧНОЕ ЗНАЧЕНИЕ\n",
    "print(round(b*100, 2), \"%\")\n",
    "a1, a2\n"
   ]
  },
  {
   "cell_type": "code",
   "execution_count": 42,
   "id": "b43c42fd",
   "metadata": {},
   "outputs": [
    {
     "name": "stdout",
     "output_type": "stream",
     "text": [
      "68.26 %\n"
     ]
    },
    {
     "data": {
      "text/plain": [
       "(-1.0, 1.0)"
      ]
     },
     "execution_count": 42,
     "metadata": {},
     "output_type": "execute_result"
    }
   ],
   "source": [
    "#г) от 166 см до 182 см\n",
    "a1 = (166 - 174)/8\n",
    "a2 = (182 - 174)/8\n",
    "b = 1 - ((1 - 0.8413)  + (1 - 0.8413))                 #ТАБЛИЧНОЕ ЗНАЧЕНИЕ\n",
    "#а также при нормальном распределении отрезок -сигма до +сигма равен 68%\n",
    "print(round(b*100, 2), \"%\")\n",
    "a1, a2\n"
   ]
  },
  {
   "cell_type": "code",
   "execution_count": 41,
   "id": "ed097adf",
   "metadata": {},
   "outputs": [
    {
     "name": "stdout",
     "output_type": "stream",
     "text": [
      "95.44 %\n"
     ]
    },
    {
     "data": {
      "text/plain": [
       "(-2.0, 2.0)"
      ]
     },
     "execution_count": 41,
     "metadata": {},
     "output_type": "execute_result"
    }
   ],
   "source": [
    "#д) от 158 см до 190 см\n",
    "a1 = (158 - 174)/8\n",
    "a2 = (190 - 174)/8\n",
    "b = 1 - ((1 - 0.9772)  + (1 - 0.9772))                 #ТАБЛИЧНОЕ ЗНАЧЕНИЕ\n",
    "#а также при нормальном распределении отрезок -2сигма до +2сигма равен 95.4%\n",
    "print(round(b*100, 2), \"%\")\n",
    "a1, a2\n"
   ]
  },
  {
   "cell_type": "code",
   "execution_count": 34,
   "id": "32ec6b65",
   "metadata": {},
   "outputs": [
    {
     "name": "stdout",
     "output_type": "stream",
     "text": [
      "2.41 %\n"
     ]
    },
    {
     "data": {
      "text/plain": [
       "(-3.0, 2.0)"
      ]
     },
     "execution_count": 34,
     "metadata": {},
     "output_type": "execute_result"
    }
   ],
   "source": [
    "#е) не выше 150 см или не ниже 190 см\n",
    "a1 = (150 - 174)/8\n",
    "a2 = (190 - 174)/8\n",
    "b = (1 - 0.9987)  + (1 - 0.9772)                 #ТАБЛИЧНОЕ ЗНАЧЕНИЕ\n",
    "print(round(b*100, 2), \"%\")\n",
    "a1, a2\n"
   ]
  },
  {
   "cell_type": "code",
   "execution_count": 31,
   "id": "686517ad",
   "metadata": {},
   "outputs": [
    {
     "name": "stdout",
     "output_type": "stream",
     "text": [
      "0.26 %\n"
     ]
    },
    {
     "data": {
      "text/plain": [
       "(-3.0, 3.0)"
      ]
     },
     "execution_count": 31,
     "metadata": {},
     "output_type": "execute_result"
    }
   ],
   "source": [
    "#ё) не выше 150 см или не ниже 198 см\n",
    "a1 = (150 - 174)/8\n",
    "a2 = (198 - 174)/8\n",
    "b = 1 - 0.9987  + 1 - 0.9987                 #ТАБЛИЧНОЕ ЗНАЧЕНИЕ\n",
    "print(round(b*100, 2), \"%\")\n",
    "a1, a2\n"
   ]
  },
  {
   "cell_type": "code",
   "execution_count": 24,
   "id": "0687d37c",
   "metadata": {},
   "outputs": [
    {
     "name": "stdout",
     "output_type": "stream",
     "text": [
      "15.87 %\n"
     ]
    },
    {
     "data": {
      "text/plain": [
       "-1.0"
      ]
     },
     "execution_count": 24,
     "metadata": {},
     "output_type": "execute_result"
    }
   ],
   "source": [
    "#ж) ниже 166 см\n",
    "a = (166 - 174)/8\n",
    "b = 1-0.8413                    #ТАБЛИЧНОЕ ЗНАЧЕНИЕ\n",
    "print(round(b*100, 2), \"%\")\n",
    "a\n"
   ]
  },
  {
   "cell_type": "markdown",
   "id": "cecc87f1",
   "metadata": {},
   "source": [
    "## Задание 5\n",
    "\n",
    "M(X) =178 см\n",
    "\n",
    "D(X) = 25 ${см}^2$\n",
    "\n",
    "А = 190 см\n",
    "\n",
    "$Z = \\frac{A-M(X)}{\\sqrt{D(X)}}$\n",
    "\n",
    "тогда:"
   ]
  },
  {
   "cell_type": "code",
   "execution_count": 2,
   "id": "654234d1",
   "metadata": {},
   "outputs": [
    {
     "data": {
      "text/plain": [
       "2.4"
      ]
     },
     "execution_count": 2,
     "metadata": {},
     "output_type": "execute_result"
    }
   ],
   "source": [
    "from math import sqrt\n",
    "mx = 178\n",
    "dx = 25\n",
    "a = 190\n",
    "z = (a-mx)/sqrt(dx)\n",
    "z\n"
   ]
  }
 ],
 "metadata": {
  "kernelspec": {
   "display_name": "Python 3 (ipykernel)",
   "language": "python",
   "name": "python3"
  },
  "language_info": {
   "codemirror_mode": {
    "name": "ipython",
    "version": 3
   },
   "file_extension": ".py",
   "mimetype": "text/x-python",
   "name": "python",
   "nbconvert_exporter": "python",
   "pygments_lexer": "ipython3",
   "version": "3.9.6"
  },
  "nbTranslate": {
   "displayLangs": [
    "*"
   ],
   "hotkey": "alt-t",
   "langInMainMenu": true,
   "sourceLang": "en",
   "targetLang": "fr",
   "useGoogleTranslate": true
  }
 },
 "nbformat": 4,
 "nbformat_minor": 5
}

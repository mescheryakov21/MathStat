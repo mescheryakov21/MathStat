{
 "cells": [
  {
   "cell_type": "markdown",
   "id": "51a0a799",
   "metadata": {},
   "source": [
    "# Домашнее Задание к Уроку №7\n"
   ]
  },
  {
   "cell_type": "markdown",
   "id": "0be1a365",
   "metadata": {},
   "source": [
    "## Задание 1\n"
   ]
  },
  {
   "cell_type": "code",
   "execution_count": 157,
   "id": "7aa23323",
   "metadata": {},
   "outputs": [
    {
     "name": "stdout",
     "output_type": "stream",
     "text": [
      "Формула математической модели примет вид у = 444.23 + 2.62 * x\n"
     ]
    }
   ],
   "source": [
    "#Способ с использованием intercept\n",
    "import numpy as np\n",
    "\n",
    "zp = np.array([35, 45, 190, 200, 40, 70, 54, 150, 120, 110])\n",
    "ks = np.array([401, 574, 874, 919, 459, 739, 653, 902, 746, 832])\n",
    "\n",
    "b = (np.mean(zp * ks) - np.mean(zp) * np.mean(ks))/(np.mean(zp**2)-pow(np.mean(zp),2))\n",
    "b = round(b, 2)\n",
    "a = np.mean(ks) - b * np.mean(zp)\n",
    "a = round(a, 2)\n",
    "print(\"Формула математической модели примет вид у = {} + {} * x\".format(a,b))\n"
   ]
  },
  {
   "cell_type": "code",
   "execution_count": 158,
   "id": "598cf55d",
   "metadata": {},
   "outputs": [
    {
     "name": "stdout",
     "output_type": "stream",
     "text": [
      "Формула математической модели примет вид у = 444.18 + 2.62  * x\n"
     ]
    }
   ],
   "source": [
    "#Способ без использования intercept\n",
    "zp_1 = zp.reshape(10, 1)\n",
    "ks_1 = ks.reshape(10,1)\n",
    "zp_1 = np.hstack([np.ones((10,1)),zp_1])\n",
    "b = np.dot(np.linalg.inv(np.dot(zp_1.T, zp_1)),zp_1.T)@ks_1\n",
    "a = float(b[0])\n",
    "b = float(b[1])\n",
    "print(\"Формула математической модели примет вид у = {} + {}  * x\".format(round(a,2),round(b,2)))\n"
   ]
  },
  {
   "cell_type": "markdown",
   "id": "4ac5ac14",
   "metadata": {},
   "source": [
    "## Задание 2\n"
   ]
  },
  {
   "cell_type": "code",
   "execution_count": 185,
   "id": "7f3ca2d7",
   "metadata": {},
   "outputs": [
    {
     "name": "stdout",
     "output_type": "stream",
     "text": [
      "Итерация 0, значение коэффициента регрессии 1.6952808000000001, Средняя квадратичная ошибка 298904.5992334053\n",
      "Итерация 100, значение коэффициента регрессии 5.889820420132646, Средняя квадратичная ошибка 56516.85841571941\n",
      "Итерация 200, значение коэффициента регрессии 5.889820420132688, Средняя квадратичная ошибка 56516.8584157194\n",
      "Итерация 300, значение коэффициента регрессии 5.889820420132688, Средняя квадратичная ошибка 56516.8584157194\n",
      "Итерация 400, значение коэффициента регрессии 5.889820420132688, Средняя квадратичная ошибка 56516.8584157194\n",
      "Итерация 500, значение коэффициента регрессии 5.889820420132688, Средняя квадратичная ошибка 56516.8584157194\n",
      "Итерация 600, значение коэффициента регрессии 5.889820420132688, Средняя квадратичная ошибка 56516.8584157194\n",
      "Итерация 700, значение коэффициента регрессии 5.889820420132688, Средняя квадратичная ошибка 56516.8584157194\n",
      "Итерация 800, значение коэффициента регрессии 5.889820420132688, Средняя квадратичная ошибка 56516.8584157194\n",
      "Итерация 900, значение коэффициента регрессии 5.889820420132688, Средняя квадратичная ошибка 56516.8584157194\n"
     ]
    }
   ],
   "source": [
    "#Способ без использования intercept\n",
    "def mse_1 (n, b1, x, y):\n",
    "    '''\n",
    "    Вычисление Среднее квадратичной ошибки\n",
    "    Принимает количество парных измерений, массивы с данными: коэффициенты регрессии, признак, следствие \n",
    "    '''\n",
    "    return np.sum((b1*x-y)**2)/n\n",
    "\n",
    "alpha = 1/100000  # скорость обучения\n",
    "b1 =0.1 # начальное значение коэффициента регрессии\n",
    "n = len(zp)\n",
    "for i in range (1000):\n",
    "    b1 -= alpha * 2 * np.sum((b1*zp - ks)*zp)/n\n",
    "    if i%100 == 0:\n",
    "       print(\"Итерация {i}, значение коэффициента регрессии {b}, Средняя квадратичная ошибка {error}\".format(i=i, b = b1,error =  mse_1(n, b1, zp, ks)))\n",
    "\n"
   ]
  },
  {
   "cell_type": "markdown",
   "id": "24f269b0",
   "metadata": {},
   "source": [
    "# Задание №3"
   ]
  },
  {
   "cell_type": "code",
   "execution_count": 228,
   "id": "664b9e22",
   "metadata": {},
   "outputs": [
    {
     "name": "stdout",
     "output_type": "stream",
     "text": [
      "Итерация 0, значение1 регрессии 401.0043891969216, значение2 0.8820528000000001 , ошибка 65193.08055293306\n",
      "Итерация 10000, значение1 регрессии 403.15039591406196, значение2 2.922515457527152 , ошибка 6897.385911240033\n",
      "Итерация 20000, значение1 регрессии 405.1798267172739, значение2 2.9075779495485077 , ошибка 6856.189672247119\n",
      "Итерация 30000, значение1 регрессии 407.10887013513184, значение2 2.8933793371100833 , ошибка 6818.968240172682\n",
      "Итерация 40000, значение1 регрессии 408.94249190833426, значение2 2.87988307016485 , ошибка 6785.338106948427\n",
      "Итерация 50000, значение1 регрессии 410.685412143329, значение2 2.867054406642462 , ошибка 6754.952767168327\n",
      "Итерация 60000, значение1 регрессии 412.34211746279385, значение2 2.8548603230163523 , ошибка 6727.499147897953\n",
      "Итерация 70000, значение1 регрессии 413.9168725550991, значение2 2.84326942929458 , ошибка 6702.694382952201\n",
      "Итерация 80000, значение1 регрессии 415.41373115246563, значение2 2.832251888215732 , ошибка 6680.28289840603\n",
      "Итерация 90000, значение1 регрессии 416.83654646607226, значение2 2.821779338441924 , ошибка 6660.033779308865\n"
     ]
    }
   ],
   "source": [
    "#Способ c использования intercept\n",
    "def mse_2 (n, b0, b1, x, y):\n",
    "    '''\n",
    "    Вычисление Среднее квадратичной ошибки\n",
    "    Принимает количество парных измерений, массивы с данными: коэффициенты регрессии, признак, следствие \n",
    "    '''\n",
    "    return np.sum((b0 + b1*x-y)**2)/n\n",
    "\n",
    "alpha = 1/100000 # скорость обучения\n",
    "b0 = 401 # берем значение У при наименьшем Х (ближе к ОУ)\n",
    "b1 =0.1 # начальное значение коэффициента регрессии b1\n",
    "n = len(zp)\n",
    "for i in range (100000):\n",
    "    b1 -= alpha * 2 * np.sum((b0 + b1*zp - ks)*zp)/n  # производная по b1\n",
    "    b0 -= alpha * 2 * np.sum((b0 + b1*zp - ks))/n       # производная по b0                 \n",
    "    if i%10000 == 0:\n",
    "       print(\"Итерация {i}, значение1 регрессии {a}, значение2 {b} , ошибка {error}\".format(i=i,a=b0, b = b1,error =  mse_2(n, b0, b1, zp, ks)))\n"
   ]
  },
  {
   "cell_type": "code",
   "execution_count": 224,
   "id": "7b4cf230",
   "metadata": {},
   "outputs": [
    {
     "data": {
      "text/plain": [
       "Text(0, 0.5, 'Кредитный рейтинг')"
      ]
     },
     "execution_count": 224,
     "metadata": {},
     "output_type": "execute_result"
    },
    {
     "data": {
      "image/png": "[encoded data removed]",
      "text/plain": [
       "<Figure size 432x288 with 1 Axes>"
      ]
     },
     "metadata": {
      "needs_background": "light"
     },
     "output_type": "display_data"
    }
   ],
   "source": [
    "%matplotlib inline\n",
    "import matplotlib.pyplot as plt\n",
    "plt.scatter(zp,ks)\n",
    "plt.plot(zp, 444.18 + 2.62  *zp) # ФОРМУЛА модели по регрессионному анализу\n",
    "plt.plot(zp, 5.89  *zp, color = 'red') # фОРМУЛА модели вычисленная по градиентному спуску без использования интерсепта\n",
    "plt.plot(zp, 416.84+2.82*zp) # # фОРМУЛА модели вычисленная по градиентному спуску c использованием интерсепта\n",
    "plt.xlabel('Зарплата в тыс.руб')\n",
    "plt.ylabel('Кредитный рейтинг')"
   ]
  }
 ],
 "metadata": {
  "kernelspec": {
   "display_name": "Python 3 (ipykernel)",
   "language": "python",
   "name": "python3"
  },
  "language_info": {
   "codemirror_mode": {
    "name": "ipython",
    "version": 3
   },
   "file_extension": ".py",
   "mimetype": "text/x-python",
   "name": "python",
   "nbconvert_exporter": "python",
   "pygments_lexer": "ipython3",
   "version": "3.9.6"
  },
  "nbTranslate": {
   "displayLangs": [
    "*"
   ],
   "hotkey": "alt-t",
   "langInMainMenu": true,
   "sourceLang": "en",
   "targetLang": "fr",
   "useGoogleTranslate": true
  }
 },
 "nbformat": 4,
 "nbformat_minor": 5
}

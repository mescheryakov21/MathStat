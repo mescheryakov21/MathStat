{
 "cells": [
  {
   "cell_type": "markdown",
   "id": "e30619f7",
   "metadata": {},
   "source": [
    "# Задание №1"
   ]
  },
  {
   "cell_type": "code",
   "execution_count": 30,
   "id": "9bede240",
   "metadata": {},
   "outputs": [],
   "source": [
    "zp = [35, 45, 190, 200, 40, 70, 54, 150, 120, 110]\n",
    "ks = [401, 574, 874, 919, 459, 739, 653, 902, 746, 832]\n"
   ]
  },
  {
   "cell_type": "markdown",
   "id": "507cce87",
   "metadata": {},
   "source": [
    "Найдем ковариацию элементарными действиями, по формуле\n",
    "$$cov_{XY} = M(XY) - M(X)M(Y)$$\n"
   ]
  },
  {
   "cell_type": "code",
   "execution_count": 3,
   "id": "095c0142",
   "metadata": {},
   "outputs": [
    {
     "data": {
      "text/plain": [
       "9157.839999999997"
      ]
     },
     "execution_count": 3,
     "metadata": {},
     "output_type": "execute_result"
    }
   ],
   "source": [
    "def m_sred(x):\n",
    "    \"\"\"\n",
    "    Считает математиическое ожидание\n",
    "    Входит список\n",
    "    Возвращает математическое ожидание\n",
    "    \"\"\"\n",
    "    return sum(x)/len(x)\n",
    "\n",
    "m_zp = m_sred(zp)   # среднее по zp\n",
    "m_ks =  m_sred(ks)   # среднее по ks\n",
    "multi_c = [x*y for x,y in zip(zp, ks)]  #по элементное произведение списков\n",
    "m_multi_c = m_sred(multi_c)   # среднее по произведению\n",
    "cov_xy_hand = m_multi_c - m_ks * m_zp\n",
    "cov_xy_hand"
   ]
  },
  {
   "cell_type": "markdown",
   "id": "67ebe936",
   "metadata": {},
   "source": [
    "Ковариация с помощью функций библиотеки Numpy"
   ]
  },
  {
   "cell_type": "code",
   "execution_count": 4,
   "id": "b3d3d1f1",
   "metadata": {},
   "outputs": [
    {
     "data": {
      "text/plain": [
       "array([[ 3494.64,  9157.84],\n",
       "       [ 9157.84, 30468.89]])"
      ]
     },
     "execution_count": 4,
     "metadata": {},
     "output_type": "execute_result"
    }
   ],
   "source": [
    "from numpy import cov\n",
    "cov_xy = cov(zp, ks, ddof=0)\n",
    "cov_xy"
   ]
  },
  {
   "cell_type": "markdown",
   "id": "db2a94ba",
   "metadata": {},
   "source": [
    "значения ковариации равны для смещенного вычисления"
   ]
  },
  {
   "cell_type": "markdown",
   "id": "3cba6f8e",
   "metadata": {},
   "source": [
    "Найдем коэффициент корреляции Пирсона с помощью ковариации и среднеквадратичных отклонений двух признаков\n",
    "$$r_{XY} = \\frac{cov_{XY}}{\\sigma_{X}\\sigma_{Y}}$$"
   ]
  },
  {
   "cell_type": "code",
   "execution_count": 5,
   "id": "868ba5ca",
   "metadata": {},
   "outputs": [
    {
     "data": {
      "text/plain": [
       "0.8874900920739158"
      ]
     },
     "execution_count": 5,
     "metadata": {},
     "output_type": "execute_result"
    }
   ],
   "source": [
    "from numpy import std\n",
    "korl_pirs = cov_xy_hand/(std(zp)*std(ks))\n",
    "korl_pirs"
   ]
  },
  {
   "cell_type": "code",
   "execution_count": 6,
   "id": "54cfaf80",
   "metadata": {},
   "outputs": [
    {
     "data": {
      "text/plain": [
       "array([[1.        , 0.88749009],\n",
       "       [0.88749009, 1.        ]])"
      ]
     },
     "execution_count": 6,
     "metadata": {},
     "output_type": "execute_result"
    }
   ],
   "source": [
    "from numpy import corrcoef #корреляция по функции из библиотеки Numpy\n",
    "korl_np = corrcoef(zp, ks)\n",
    "korl_np"
   ]
  },
  {
   "cell_type": "code",
   "execution_count": 32,
   "id": "97264bb3",
   "metadata": {
    "scrolled": true
   },
   "outputs": [
    {
     "ename": "ImportError",
     "evalue": "cannot import name 'corr' from 'pandas' (c:\\users\\user\\appdata\\local\\programs\\python\\python39\\lib\\site-packages\\pandas\\__init__.py)",
     "output_type": "error",
     "traceback": [
      "\u001b[1;31m---------------------------------------------------------------------------\u001b[0m",
      "\u001b[1;31mImportError\u001b[0m                               Traceback (most recent call last)",
      "\u001b[1;32m~\\AppData\\Local\\Temp/ipykernel_8176/1264299648.py\u001b[0m in \u001b[0;36m<module>\u001b[1;34m\u001b[0m\n\u001b[1;32m----> 1\u001b[1;33m \u001b[1;32mfrom\u001b[0m \u001b[0mpandas\u001b[0m \u001b[1;32mimport\u001b[0m \u001b[0mcorr\u001b[0m \u001b[1;31m#корреляция по функции из библиотеки Pandas\u001b[0m\u001b[1;33m\u001b[0m\u001b[1;33m\u001b[0m\u001b[0m\n\u001b[0m\u001b[0;32m      2\u001b[0m \u001b[0mkorl_pn\u001b[0m \u001b[1;33m=\u001b[0m \u001b[0mcorr\u001b[0m\u001b[1;33m(\u001b[0m\u001b[0mzp\u001b[0m\u001b[1;33m,\u001b[0m \u001b[0mks\u001b[0m\u001b[1;33m)\u001b[0m\u001b[1;33m\u001b[0m\u001b[1;33m\u001b[0m\u001b[0m\n\u001b[0;32m      3\u001b[0m \u001b[0mkorl_pn\u001b[0m\u001b[1;33m\u001b[0m\u001b[1;33m\u001b[0m\u001b[0m\n",
      "\u001b[1;31mImportError\u001b[0m: cannot import name 'corr' from 'pandas' (c:\\users\\user\\appdata\\local\\programs\\python\\python39\\lib\\site-packages\\pandas\\__init__.py)"
     ]
    }
   ],
   "source": [
    "from pandas import corr #корреляция по функции из библиотеки Pandas\n",
    "korl_pn = corr(zp, ks) \n",
    "korl_pn"
   ]
  },
  {
   "cell_type": "markdown",
   "id": "6fb03aaa",
   "metadata": {},
   "source": [
    "# Задание №2\n",
    "Найдем доверительный Интервал по формуле:\n",
    "\n",
    "$$T_{1,2} = \\overline{X} \\pm t_{\\frac{\\alpha}{2}}\\frac{\\sigma}{\\sqrt{n}}$$\n"
   ]
  },
  {
   "cell_type": "code",
   "execution_count": 36,
   "id": "800adc91",
   "metadata": {},
   "outputs": [
    {
     "data": {
      "text/plain": [
       "(110.56327742907362, 125.63672257092637)"
      ]
     },
     "execution_count": 36,
     "metadata": {},
     "output_type": "execute_result"
    }
   ],
   "source": [
    "import numpy as np\n",
    "iq = [131, 125, 115, 122, 131, 115, 107, 99, 125, 111]\n",
    "dov_inter = 0,95\n",
    "m_sr = np.mean(iq)\n",
    "sigma_v = np.std(iq, ddof=1)\n",
    "t_1 = m_sr - 2.26 * (sigma_v/np.sqrt(len(iq)))     # 2.26 значение табличное\n",
    "t_2 = m_sr + 2.26 * (sigma_v/np.sqrt(len(iq)))\n",
    "t_1, t_2\n"
   ]
  },
  {
   "cell_type": "markdown",
   "id": "e121dadc",
   "metadata": {},
   "source": [
    "# Задание №3\n",
    "\n",
    "Для решения используем формулу:\n",
    "\n",
    "$$Z_{1,2} = \\overline{X} \\pm z_{\\frac{\\alpha}{2}}\\frac{\\sigma}{\\sqrt{n}}$$"
   ]
  },
  {
   "cell_type": "code",
   "execution_count": 37,
   "id": "5b0a1ce0",
   "metadata": {},
   "outputs": [
    {
     "data": {
      "text/plain": [
       "(172.31398912064722, 176.08601087935276)"
      ]
     },
     "execution_count": 37,
     "metadata": {},
     "output_type": "execute_result"
    }
   ],
   "source": [
    "disp = 25\n",
    "n_v = 27\n",
    "m_sr =174.2\n",
    "z_1 = m_sr - 1.96 * (np.sqrt(disp/n_v))   # 1.96 Табличное значение \n",
    "z_2 = m_sr + 1.96 * (np.sqrt(disp/n_v))\n",
    "z_1 , z_2\n"
   ]
  }
 ],
 "metadata": {
  "kernelspec": {
   "display_name": "Python 3 (ipykernel)",
   "language": "python",
   "name": "python3"
  },
  "language_info": {
   "codemirror_mode": {
    "name": "ipython",
    "version": 3
   },
   "file_extension": ".py",
   "mimetype": "text/x-python",
   "name": "python",
   "nbconvert_exporter": "python",
   "pygments_lexer": "ipython3",
   "version": "3.9.6"
  },
  "nbTranslate": {
   "displayLangs": [
    "*"
   ],
   "hotkey": "alt-t",
   "langInMainMenu": true,
   "sourceLang": "en",
   "targetLang": "fr",
   "useGoogleTranslate": true
  }
 },
 "nbformat": 4,
 "nbformat_minor": 5
}

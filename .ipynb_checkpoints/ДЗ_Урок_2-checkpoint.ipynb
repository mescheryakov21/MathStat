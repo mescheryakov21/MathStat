{
 "cells": [
  {
   "cell_type": "markdown",
   "id": "d396a76a",
   "metadata": {},
   "source": [
    "# Домашняя работа к Уроку №2"
   ]
  },
  {
   "cell_type": "markdown",
   "id": "477f3ab2",
   "metadata": {},
   "source": [
    "## Задание№1\n",
    "\n",
    "Решаем по Биноминальному закону распределения.\n",
    "\n",
    "Формула:\n",
    "$$\n",
    "P_n (X=k) = C_n^k  p^k  q^{n-k}\n",
    "$$\n"
   ]
  },
  {
   "cell_type": "code",
   "execution_count": 66,
   "id": "dd98a05b",
   "metadata": {},
   "outputs": [
    {
     "name": "stdout",
     "output_type": "stream",
     "text": [
      "С вероятностью 4.81 % стрелок попадет 85раз\n"
     ]
    }
   ],
   "source": [
    "#Задание1\n",
    "import math\n",
    "def combination (n, k):\n",
    "    return factorial(n)/(factorial(k) * factorial(n-k))\n",
    "p = 0.8\n",
    "kol = 100\n",
    "ver = 85\n",
    "ver_1 = combination(kol, ver) * pow(p, ver) * pow(1-p, kol-ver)\n",
    "print('С вероятностью', round(ver_1*100,2), '% стрелок попадет 85раз')\n"
   ]
  },
  {
   "cell_type": "markdown",
   "id": "3d61dd57",
   "metadata": {},
   "source": [
    "## Задание№2"
   ]
  },
  {
   "cell_type": "markdown",
   "id": "09512f1b",
   "metadata": {},
   "source": [
    "По формуле Пуассона:\n",
    "\n",
    "$$P_m \\approx \\frac{\\lambda^m}{m!}e^{-\\lambda}$$\n",
    "\n",
    "где $\\lambda = n \\dot p$\n",
    "\n",
    "n = 5000\n",
    "p = 0,0004\n"
   ]
  },
  {
   "cell_type": "code",
   "execution_count": 59,
   "id": "2a35f424",
   "metadata": {},
   "outputs": [
    {
     "name": "stdout",
     "output_type": "stream",
     "text": [
      "С вероятностью 13.53 % не перегорит ни одна лампочка\n",
      "С вероятностью 27.07 % перегорит две лампочки\n"
     ]
    }
   ],
   "source": [
    "#Задание2 а и б:\n",
    "\n",
    "import math\n",
    "\n",
    "def ver_a(lam, m):\n",
    "    return pow(lam, m)/(factorial(m)*pow(math.e, lam))\n",
    "n = 5000\n",
    "p = 0.0004\n",
    "lam = n * p\n",
    "a = ver_a(lam, 0)\n",
    "b = ver_a(lam, 2)\n",
    "\n",
    "print('С вероятностью', round(a*100,2), '% не перегорит ни одна лампочка')\n",
    "print('С вероятностью', round(b*100,2), '% перегорит две лампочки')\n"
   ]
  },
  {
   "cell_type": "markdown",
   "id": "ee1f2f35",
   "metadata": {},
   "source": [
    "## Задание№3\n",
    "\n",
    "Решаем по Биноминальному закону распределения.\n",
    "\n",
    "Формула:\n",
    "$$\n",
    "P_n (X=k) = C_n^k  p^k  q^{n-k}\n",
    "$$"
   ]
  },
  {
   "cell_type": "code",
   "execution_count": 38,
   "id": "3091d980",
   "metadata": {},
   "outputs": [
    {
     "name": "stdout",
     "output_type": "stream",
     "text": [
      "С вероятностью 6.28 % 70 раз выпадет орел\n"
     ]
    }
   ],
   "source": [
    "#Задание3\n",
    "\n",
    "import math\n",
    "k = 70\n",
    "n = 144\n",
    "p = 0.5\n",
    "q = 0.5\n",
    "\n",
    "ver_3 = (factorial(n) * pow(p, n))/(factorial(k)*factorial(n-k))  #степени сложил, т.к. основания одинаковы\n",
    "print('С вероятностью', round(ver_3*100,2), '% 70 раз выпадет орел!')\n"
   ]
  },
  {
   "cell_type": "markdown",
   "id": "df9a2863",
   "metadata": {},
   "source": [
    "## Задание№4"
   ]
  },
  {
   "cell_type": "code",
   "execution_count": 40,
   "id": "f2fe7ef7",
   "metadata": {},
   "outputs": [],
   "source": [
    "#Задание4\n",
    "\n",
    "import math\n",
    "def combination (n, k):\n",
    "    return factorial(n)/(factorial(k) * factorial(n-k))\n",
    "\n",
    "kol_1 = 10\n",
    "kol_2 = 11\n",
    "bel_1 = 7\n",
    "bel_2 = 9\n"
   ]
  },
  {
   "cell_type": "code",
   "execution_count": 53,
   "id": "88d0a3a4",
   "metadata": {},
   "outputs": [
    {
     "name": "stdout",
     "output_type": "stream",
     "text": [
      "Вероятность вытащить все белые шары 30.55 %\n"
     ]
    }
   ],
   "source": [
    "#Задание4а\n",
    "\n",
    "ver_a = (bel_1/kol_1)*((bel_1-1)/(kol_1-1))*(bel_2/kol_2)*((bel_2-1)/(kol_2-1))\n",
    "print('Вероятность вытащить все белые шары', round(ver_a*100, 2), '%')\n"
   ]
  },
  {
   "cell_type": "code",
   "execution_count": 58,
   "id": "5e65ed2d",
   "metadata": {},
   "outputs": [
    {
     "name": "stdout",
     "output_type": "stream",
     "text": [
      "Вероятность вытащить только два белых шары 2.75 %\n"
     ]
    }
   ],
   "source": [
    "#Задание4б\n",
    "\n",
    "ver_b = ( (bel_1/kol_1)*((bel_1-1)/(kol_1-1))*(bel_2/kol_2)*((bel_2-1)/(kol_2-1))*(bel_2/kol_2)*((bel_2-1)/(kol_2-1))\n",
    "    *(bel_1/kol_1)*(bel_1/kol_1)*((bel_1)/(kol_1-1))*(bel_2/kol_2)*(bel_1/kol_1)*((bel_2)/(kol_2-1))\n",
    "    *((bel_1)/(kol_1-1))*((bel_2)/(kol_2-1))\n",
    "        )\n",
    "\n",
    "print('Вероятность вытащить только два белых шары', round(ver_b*100, 2), '%')\n",
    "\n"
   ]
  },
  {
   "cell_type": "code",
   "execution_count": 50,
   "id": "797bc02e",
   "metadata": {},
   "outputs": [
    {
     "name": "stdout",
     "output_type": "stream",
     "text": [
      "Вероятность вытащить хотя бы один белый 99.88 %\n"
     ]
    }
   ],
   "source": [
    "#Задание4в\n",
    "\n",
    "ver_c = ((kol_1-bel_1)/kol_1)*((kol_1-bel_1-1)/(kol_1-1))*((kol_2-bel_2)/kol_2)*((kol_2-bel_2-1)/(kol_2-1))\n",
    "ver_c= 1-ver_c\n",
    "\n",
    "print('Вероятность вытащить хотя бы один белый', round(ver_c*100, 2), '%')\n"
   ]
  }
 ],
 "metadata": {
  "kernelspec": {
   "display_name": "Python 3 (ipykernel)",
   "language": "python",
   "name": "python3"
  },
  "language_info": {
   "codemirror_mode": {
    "name": "ipython",
    "version": 3
   },
   "file_extension": ".py",
   "mimetype": "text/x-python",
   "name": "python",
   "nbconvert_exporter": "python",
   "pygments_lexer": "ipython3",
   "version": "3.9.6"
  },
  "nbTranslate": {
   "displayLangs": [
    "*"
   ],
   "hotkey": "alt-t",
   "langInMainMenu": true,
   "sourceLang": "en",
   "targetLang": "fr",
   "useGoogleTranslate": true
  }
 },
 "nbformat": 4,
 "nbformat_minor": 5
}
